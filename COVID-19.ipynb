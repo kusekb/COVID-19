{
 "cells": [
  {
   "cell_type": "markdown",
   "metadata": {},
   "source": [
    "# COVID-19 New Cases and Deaths \n",
    "\n",
    "\n",
    "## Before you start, go to the kernel menu and select \"Restart & Run All\"\n",
    "#### This notebook will show the covid-19 stats for any country that you input from the list below. You can also type \"World\" to see worldwide data! Have fun messing around with this function and remember to stay safe and wash your hands whenever you go out!"
   ]
  },
  {
   "cell_type": "code",
   "execution_count": 1,
   "metadata": {},
   "outputs": [],
   "source": [
    "import pandas as pd\n",
    "import datetime as dt\n",
    "import sys"
   ]
  },
  {
   "cell_type": "code",
   "execution_count": 2,
   "metadata": {},
   "outputs": [],
   "source": [
    "covid_data = pd.read_csv('https://covid.ourworldindata.org/data/ecdc/full_data.csv')"
   ]
  },
  {
   "cell_type": "code",
   "execution_count": 3,
   "metadata": {},
   "outputs": [
    {
     "name": "stdout",
     "output_type": "stream",
     "text": [
      "['Afghanistan' 'Albania' 'Algeria' 'Andorra' 'Angola' 'Anguilla'\n",
      " 'Antigua and Barbuda' 'Argentina' 'Armenia' 'Aruba' 'Australia' 'Austria'\n",
      " 'Azerbaijan' 'Bahamas' 'Bahrain' 'Bangladesh' 'Barbados' 'Belarus'\n",
      " 'Belgium' 'Belize' 'Benin' 'Bermuda' 'Bhutan' 'Bolivia'\n",
      " 'Bosnia and Herzegovina' 'Brazil' 'British Virgin Islands' 'Brunei'\n",
      " 'Bulgaria' 'Burkina Faso' 'Cambodia' 'Cameroon' 'Canada' 'Cape Verde'\n",
      " 'Cayman Islands' 'Central African Republic' 'Chad' 'Chile' 'China'\n",
      " 'Colombia' 'Congo' 'Costa Rica' \"Cote d'Ivoire\" 'Croatia' 'Cuba'\n",
      " 'Curacao' 'Cyprus' 'Czech Republic' 'Democratic Republic of Congo'\n",
      " 'Denmark' 'Djibouti' 'Dominica' 'Dominican Republic' 'Ecuador' 'Egypt'\n",
      " 'El Salvador' 'Equatorial Guinea' 'Eritrea' 'Estonia' 'Ethiopia'\n",
      " 'Faeroe Islands' 'Fiji' 'Finland' 'France' 'French Polynesia' 'Gabon'\n",
      " 'Gambia' 'Georgia' 'Germany' 'Ghana' 'Gibraltar' 'Greece' 'Greenland'\n",
      " 'Grenada' 'Guam' 'Guatemala' 'Guernsey' 'Guinea' 'Guinea-Bissau' 'Guyana'\n",
      " 'Haiti' 'Honduras' 'Hungary' 'Iceland' 'India' 'Indonesia'\n",
      " 'International' 'Iran' 'Iraq' 'Ireland' 'Isle of Man' 'Israel' 'Italy'\n",
      " 'Jamaica' 'Japan' 'Jersey' 'Jordan' 'Kazakhstan' 'Kenya' 'Kosovo'\n",
      " 'Kuwait' 'Kyrgyzstan' 'Laos' 'Latvia' 'Lebanon' 'Liberia' 'Libya'\n",
      " 'Liechtenstein' 'Lithuania' 'Luxembourg' 'Macedonia' 'Madagascar'\n",
      " 'Malaysia' 'Maldives' 'Mali' 'Malta' 'Mauritania' 'Mauritius' 'Mexico'\n",
      " 'Moldova' 'Monaco' 'Mongolia' 'Montenegro' 'Montserrat' 'Morocco'\n",
      " 'Mozambique' 'Myanmar' 'Namibia' 'Nepal' 'Netherlands' 'New Caledonia'\n",
      " 'New Zealand' 'Nicaragua' 'Niger' 'Nigeria' 'Norway' 'Oman' 'Pakistan'\n",
      " 'Palestine' 'Panama' 'Papua New Guinea' 'Paraguay' 'Peru' 'Philippines'\n",
      " 'Poland' 'Portugal' 'Puerto Rico' 'Qatar' 'Romania' 'Russia' 'Rwanda'\n",
      " 'Saint Kitts and Nevis' 'Saint Lucia' 'Saint Vincent and the Grenadines'\n",
      " 'San Marino' 'Saudi Arabia' 'Senegal' 'Serbia' 'Seychelles' 'Singapore'\n",
      " 'Sint Maarten (Dutch part)' 'Slovakia' 'Slovenia' 'Somalia'\n",
      " 'South Africa' 'South Korea' 'Spain' 'Sri Lanka' 'Sudan' 'Suriname'\n",
      " 'Swaziland' 'Sweden' 'Switzerland' 'Syria' 'Taiwan' 'Tanzania' 'Thailand'\n",
      " 'Timor' 'Togo' 'Trinidad and Tobago' 'Tunisia' 'Turkey'\n",
      " 'Turks and Caicos Islands' 'Uganda' 'Ukraine' 'United Arab Emirates'\n",
      " 'United Kingdom' 'United States' 'United States Virgin Islands' 'Uruguay'\n",
      " 'Uzbekistan' 'Vatican' 'Venezuela' 'Vietnam' 'World' 'Zambia' 'Zimbabwe']\n"
     ]
    }
   ],
   "source": [
    "#This is the list of countries that you can input\n",
    "print(covid_data.location.unique())"
   ]
  },
  {
   "cell_type": "markdown",
   "metadata": {},
   "source": [
    "# Insert the country you desire in the cell below!\n",
    "## Check if it's spelled correctly! The easiest way to do this is to copy and paste from the list above. You'll need to wrap the country name in single quotes anyway."
   ]
  },
  {
   "cell_type": "code",
   "execution_count": 4,
   "metadata": {},
   "outputs": [],
   "source": [
    "#Type 'World' to see worldwide data instead of a specific country's data\n",
    "country = 'United States'"
   ]
  },
  {
   "cell_type": "code",
   "execution_count": 5,
   "metadata": {},
   "outputs": [],
   "source": [
    "def COVID_TERROR_PANIC_RUN_FIRE_EVERYWHERE(country):\n",
    "#Corrects the case of the country\n",
    "\tcountry = country.title()\n",
    "\n",
    "#Fix for input as 'US' instead of 'United States'\n",
    "\tif country == 'Us':\n",
    "\t\tcountry = 'United States'\n",
    "\n",
    "#If the country isn't valid then return False\n",
    "\tif country not in covid_data['location'].values:\n",
    "\t\tprint('\\n')\n",
    "\t\tprint('Sorry, \"{}\" is either spelled incorrectly or is not in the list of countries with confirmed cases.'.format(country))\n",
    "\t\tprint(\"Also make sure to put 'single quotes' around countries that contain spaces.\")\n",
    "\t\tprint(\"For example: 'United Arab Emirates'\")\n",
    "\t\tprint('\\n')\n",
    "\t\treturn False;\n",
    "\n",
    "#Grabs the rows from the table with the specified country\n",
    "\tcountry_rows = covid_data[covid_data['location'] == country]\n",
    "\n",
    "#Gets the last date entry of the country\n",
    "\tmax_date = country_rows.date.max()\n",
    "\n",
    "#Formats the date into Month Day, Year\n",
    "\tformated_date = dt.datetime.strptime(max_date, '%Y-%m-%d')\n",
    "\tformated_date = formated_date.strftime('%B %d, %Y')\n",
    "\n",
    "#Grabs the total cases and total deaths using max\n",
    "\ttotal_case = country_rows.total_cases.max()\n",
    "\ttotal_death = country_rows.total_deaths.max()\n",
    "\n",
    "#Grabs the new_cases of the most recent date\n",
    "\tdate_new_case = int(country_rows.new_cases.tail(1))\n",
    "\n",
    "#Grabs the total new cases\n",
    "\ttotal_new_case = int(covid_data[covid_data['location'] == 'World'].new_cases.tail(1))\n",
    "\n",
    "#Calculates the death rate using the total deaths and total cases\n",
    "\tdeath_rate = (total_death / total_case) * 100\n",
    "\n",
    "#Grammar fix for \"World\"\n",
    "\tif country == \"World\":\n",
    "\t\tcountry = \"the world\"\n",
    "\n",
    "#Prints up the information in a fancy way. Excludes the last line if you type \"World\"\n",
    "\tprint('\\n')\n",
    "\tprint('The total number of cases in {} as of {}: \\033[1;31m{}\\033[0;0m.'.format(country, formated_date, total_case))\n",
    "\tprint('The total number of deaths in {} as of {}: \\033[1;31m{:.0f}\\033[0;0m.'.format(country, formated_date, total_death))\n",
    "\tprint('As of {}, the death rate in {} is \\033[1;31m{:.2f}%\\033[0;0m.'.format(formated_date, country, death_rate))\n",
    "\tprint('On {}, there were \\033[1;31m{:.0f}\\033[0;0m new cases reported in {}.'.format(max_date, date_new_case, country))\n",
    "\tif country != \"the world\":\n",
    "\t\tprint('On {}, there were \\033[1;31m{:.0f}\\033[0;0m new cases reported worldwide.'.format(max_date, total_new_case))\n",
    "\tprint('\\n')"
   ]
  },
  {
   "cell_type": "markdown",
   "metadata": {},
   "source": [
    "# Here's where the data will be displayed. Each time you enter a new country, make sure to run this cell to call the function again."
   ]
  },
  {
   "cell_type": "code",
   "execution_count": 6,
   "metadata": {},
   "outputs": [
    {
     "name": "stdout",
     "output_type": "stream",
     "text": [
      "\n",
      "\n",
      "The total number of cases in United States as of March 28, 2020: \u001b[1;31m104686\u001b[0;0m.\n",
      "The total number of deaths in United States as of March 28, 2020: \u001b[1;31m1707\u001b[0;0m.\n",
      "As of March 28, 2020, the death rate in United States is \u001b[1;31m1.63%\u001b[0;0m.\n",
      "On 2020-03-28, there were \u001b[1;31m18695\u001b[0;0m new cases reported in United States.\n",
      "On 2020-03-28, there were \u001b[1;31m63952\u001b[0;0m new cases reported worldwide.\n",
      "\n",
      "\n"
     ]
    }
   ],
   "source": [
    "COVID_TERROR_PANIC_RUN_FIRE_EVERYWHERE(country)"
   ]
  }
 ],
 "metadata": {
  "kernelspec": {
   "display_name": "Python 3",
   "language": "python",
   "name": "python3"
  },
  "language_info": {
   "codemirror_mode": {
    "name": "ipython",
    "version": 3
   },
   "file_extension": ".py",
   "mimetype": "text/x-python",
   "name": "python",
   "nbconvert_exporter": "python",
   "pygments_lexer": "ipython3",
   "version": "3.7.6"
  }
 },
 "nbformat": 4,
 "nbformat_minor": 4
}
